{
 "cells": [
  {
   "cell_type": "code",
   "execution_count": 10,
   "id": "a164b0b1-a746-44a9-b6c7-d01b8abf84d0",
   "metadata": {
    "tags": []
   },
   "outputs": [
    {
     "name": "stdout",
     "output_type": "stream",
     "text": [
      "AND Function Results:\n",
      "[0, 0] -> 0\n",
      "[0, 1] -> 0\n",
      "[1, 0] -> 0\n",
      "[1, 1] -> 1\n",
      "\n",
      "OR Function Results:\n",
      "[0, 0] -> 0\n",
      "[0, 1] -> 1\n",
      "[1, 0] -> 1\n",
      "[1, 1] -> 1\n"
     ]
    }
   ],
   "source": [
    "import matplotlib.pyplot as plt\n",
    "import numpy as np\n",
    "from sklearn.neural_network import MLPClassifier\n",
    "\n",
    "X = [[0,0],[0,1],[1,0],[1,1]]\n",
    "Y_and = [0, 0, 0, 1]  \n",
    "Y_or = [0, 1, 1, 1] \n",
    "\n",
    "and_classifier = MLPClassifier(solver='sgd', hidden_layer_sizes=(1,), max_iter=10000, activation='identity')\n",
    "or_classifier = MLPClassifier(solver='sgd', hidden_layer_sizes=(1,), max_iter=10000, activation='identity')\n",
    "\n",
    "and_classifier.fit(X, Y_and)\n",
    "or_classifier.fit(X, Y_or)\n",
    "\n",
    "test_cases = [[0, 0], [0, 1], [1, 0], [1, 1]]\n",
    "\n",
    "print(\"AND Function Results:\")\n",
    "for test_case in test_cases:\n",
    "    prediction = and_classifier.predict([test_case])\n",
    "    print(f\"{test_case} -> {prediction[0]}\")\n",
    "\n",
    "print(\"\\nOR Function Results:\")\n",
    "for test_case in test_cases:\n",
    "    prediction = or_classifier.predict([test_case])\n",
    "    print(f\"{test_case} -> {prediction[0]}\")\n"
   ]
  },
  {
   "cell_type": "code",
   "execution_count": null,
   "id": "ce76744b-d216-402d-9751-39124a8abf34",
   "metadata": {},
   "outputs": [],
   "source": []
  }
 ],
 "metadata": {
  "kernelspec": {
   "display_name": "Python 3 (ipykernel)",
   "language": "python",
   "name": "python3"
  },
  "language_info": {
   "codemirror_mode": {
    "name": "ipython",
    "version": 3
   },
   "file_extension": ".py",
   "mimetype": "text/x-python",
   "name": "python",
   "nbconvert_exporter": "python",
   "pygments_lexer": "ipython3",
   "version": "3.11.5"
  }
 },
 "nbformat": 4,
 "nbformat_minor": 5
}
